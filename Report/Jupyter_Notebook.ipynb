{
 "cells": [
  {
   "cell_type": "markdown",
   "metadata": {},
   "source": [
    "# Prediction of house prices using multivariate linear regression\n",
    "\n",
    "## 1. Introduction\n",
    "\n",
    "This is a classic example for beginners in machine learning. The dataset contains the house sales for King County, USA, between May 2014 and May 2015. You can find the full dataset on [Kaggle](https://www.kaggle.com/harlfoxem/housesalesprediction). Before continuing, it is highly recommended that you click the aforementioned link and get to know the original dataset.\n",
    "\n",
    "Our aim is to apply multivariate linear regression so as to predict the price of any given house in that area, given a number of its features (e.g. number of bathrooms, year on which the house was built, etc.). For this purpose however, only NumPy and Pandas libraries are used (as well as Matplotlib and Seaborn for the visualizations). Although some may find the code to be unnecessarily lengthy and detailed, I believe that it can provide the reader with a good grasp of what is really happening in such models and thus, can have great educational value (especially for beginners). The code is largely based on Stanford's Machine Learning course on [Coursera](https://www.coursera.org/learn/machine-learning/) by Andrew Ng and can be very helpful for those who have taken it and wish to see an implementation in Python.\n",
    "\n",
    "If you have any questions or feedback, please feel free to contact me. Please do not forget to upvote if you like this kernel!\n",
    "\n",
    "## 2. Initial exploration of the dataset\n",
    "\n",
    "In this section, we are going to set our environment up by importing the necessary libraries, as well as loading our data into a Pandas dataframe."
   ]
  },
  {
   "cell_type": "code",
   "execution_count": 1,
   "metadata": {},
   "outputs": [],
   "source": [
    "# Import the libraries\n",
    "import numpy as np\n",
    "import pandas as pd\n",
    "import matplotlib.pyplot as plt\n",
    "import seaborn as sns\n",
    "%matplotlib inline\n",
    "\n",
    "# Read the house data into a data frame\n",
    "df = pd.read_csv('../Data_Set/kc_house_data.csv')"
   ]
  },
  {
   "cell_type": "markdown",
   "metadata": {},
   "source": [
    "Now, we can go ahead and see how our dataset looks like, while also getting an idea of its statistical properties. "
   ]
  },
  {
   "cell_type": "code",
   "execution_count": 2,
   "metadata": {},
   "outputs": [
    {
     "data": {
      "text/html": [
       "<div>\n",
       "<style scoped>\n",
       "    .dataframe tbody tr th:only-of-type {\n",
       "        vertical-align: middle;\n",
       "    }\n",
       "\n",
       "    .dataframe tbody tr th {\n",
       "        vertical-align: top;\n",
       "    }\n",
       "\n",
       "    .dataframe thead th {\n",
       "        text-align: right;\n",
       "    }\n",
       "</style>\n",
       "<table border=\"1\" class=\"dataframe\">\n",
       "  <thead>\n",
       "    <tr style=\"text-align: right;\">\n",
       "      <th></th>\n",
       "      <th>id</th>\n",
       "      <th>date</th>\n",
       "      <th>price</th>\n",
       "      <th>bedrooms</th>\n",
       "      <th>bathrooms</th>\n",
       "      <th>sqft_living</th>\n",
       "      <th>sqft_lot</th>\n",
       "      <th>floors</th>\n",
       "      <th>waterfront</th>\n",
       "      <th>view</th>\n",
       "      <th>...</th>\n",
       "      <th>grade</th>\n",
       "      <th>sqft_above</th>\n",
       "      <th>sqft_basement</th>\n",
       "      <th>yr_built</th>\n",
       "      <th>yr_renovated</th>\n",
       "      <th>zipcode</th>\n",
       "      <th>lat</th>\n",
       "      <th>long</th>\n",
       "      <th>sqft_living15</th>\n",
       "      <th>sqft_lot15</th>\n",
       "    </tr>\n",
       "  </thead>\n",
       "  <tbody>\n",
       "    <tr>\n",
       "      <th>0</th>\n",
       "      <td>7129300520</td>\n",
       "      <td>20141013T000000</td>\n",
       "      <td>221900.0</td>\n",
       "      <td>3</td>\n",
       "      <td>1.00</td>\n",
       "      <td>1180</td>\n",
       "      <td>5650</td>\n",
       "      <td>1.0</td>\n",
       "      <td>0</td>\n",
       "      <td>0</td>\n",
       "      <td>...</td>\n",
       "      <td>7</td>\n",
       "      <td>1180</td>\n",
       "      <td>0</td>\n",
       "      <td>1955</td>\n",
       "      <td>0</td>\n",
       "      <td>98178</td>\n",
       "      <td>47.5112</td>\n",
       "      <td>-122.257</td>\n",
       "      <td>1340</td>\n",
       "      <td>5650</td>\n",
       "    </tr>\n",
       "    <tr>\n",
       "      <th>1</th>\n",
       "      <td>6414100192</td>\n",
       "      <td>20141209T000000</td>\n",
       "      <td>538000.0</td>\n",
       "      <td>3</td>\n",
       "      <td>2.25</td>\n",
       "      <td>2570</td>\n",
       "      <td>7242</td>\n",
       "      <td>2.0</td>\n",
       "      <td>0</td>\n",
       "      <td>0</td>\n",
       "      <td>...</td>\n",
       "      <td>7</td>\n",
       "      <td>2170</td>\n",
       "      <td>400</td>\n",
       "      <td>1951</td>\n",
       "      <td>1991</td>\n",
       "      <td>98125</td>\n",
       "      <td>47.7210</td>\n",
       "      <td>-122.319</td>\n",
       "      <td>1690</td>\n",
       "      <td>7639</td>\n",
       "    </tr>\n",
       "    <tr>\n",
       "      <th>2</th>\n",
       "      <td>5631500400</td>\n",
       "      <td>20150225T000000</td>\n",
       "      <td>180000.0</td>\n",
       "      <td>2</td>\n",
       "      <td>1.00</td>\n",
       "      <td>770</td>\n",
       "      <td>10000</td>\n",
       "      <td>1.0</td>\n",
       "      <td>0</td>\n",
       "      <td>0</td>\n",
       "      <td>...</td>\n",
       "      <td>6</td>\n",
       "      <td>770</td>\n",
       "      <td>0</td>\n",
       "      <td>1933</td>\n",
       "      <td>0</td>\n",
       "      <td>98028</td>\n",
       "      <td>47.7379</td>\n",
       "      <td>-122.233</td>\n",
       "      <td>2720</td>\n",
       "      <td>8062</td>\n",
       "    </tr>\n",
       "    <tr>\n",
       "      <th>3</th>\n",
       "      <td>2487200875</td>\n",
       "      <td>20141209T000000</td>\n",
       "      <td>604000.0</td>\n",
       "      <td>4</td>\n",
       "      <td>3.00</td>\n",
       "      <td>1960</td>\n",
       "      <td>5000</td>\n",
       "      <td>1.0</td>\n",
       "      <td>0</td>\n",
       "      <td>0</td>\n",
       "      <td>...</td>\n",
       "      <td>7</td>\n",
       "      <td>1050</td>\n",
       "      <td>910</td>\n",
       "      <td>1965</td>\n",
       "      <td>0</td>\n",
       "      <td>98136</td>\n",
       "      <td>47.5208</td>\n",
       "      <td>-122.393</td>\n",
       "      <td>1360</td>\n",
       "      <td>5000</td>\n",
       "    </tr>\n",
       "    <tr>\n",
       "      <th>4</th>\n",
       "      <td>1954400510</td>\n",
       "      <td>20150218T000000</td>\n",
       "      <td>510000.0</td>\n",
       "      <td>3</td>\n",
       "      <td>2.00</td>\n",
       "      <td>1680</td>\n",
       "      <td>8080</td>\n",
       "      <td>1.0</td>\n",
       "      <td>0</td>\n",
       "      <td>0</td>\n",
       "      <td>...</td>\n",
       "      <td>8</td>\n",
       "      <td>1680</td>\n",
       "      <td>0</td>\n",
       "      <td>1987</td>\n",
       "      <td>0</td>\n",
       "      <td>98074</td>\n",
       "      <td>47.6168</td>\n",
       "      <td>-122.045</td>\n",
       "      <td>1800</td>\n",
       "      <td>7503</td>\n",
       "    </tr>\n",
       "  </tbody>\n",
       "</table>\n",
       "<p>5 rows × 21 columns</p>\n",
       "</div>"
      ],
      "text/plain": [
       "           id             date     price  bedrooms  bathrooms  sqft_living  \\\n",
       "0  7129300520  20141013T000000  221900.0         3       1.00         1180   \n",
       "1  6414100192  20141209T000000  538000.0         3       2.25         2570   \n",
       "2  5631500400  20150225T000000  180000.0         2       1.00          770   \n",
       "3  2487200875  20141209T000000  604000.0         4       3.00         1960   \n",
       "4  1954400510  20150218T000000  510000.0         3       2.00         1680   \n",
       "\n",
       "   sqft_lot  floors  waterfront  view  ...  grade  sqft_above  sqft_basement  \\\n",
       "0      5650     1.0           0     0  ...      7        1180              0   \n",
       "1      7242     2.0           0     0  ...      7        2170            400   \n",
       "2     10000     1.0           0     0  ...      6         770              0   \n",
       "3      5000     1.0           0     0  ...      7        1050            910   \n",
       "4      8080     1.0           0     0  ...      8        1680              0   \n",
       "\n",
       "   yr_built  yr_renovated  zipcode      lat     long  sqft_living15  \\\n",
       "0      1955             0    98178  47.5112 -122.257           1340   \n",
       "1      1951          1991    98125  47.7210 -122.319           1690   \n",
       "2      1933             0    98028  47.7379 -122.233           2720   \n",
       "3      1965             0    98136  47.5208 -122.393           1360   \n",
       "4      1987             0    98074  47.6168 -122.045           1800   \n",
       "\n",
       "   sqft_lot15  \n",
       "0        5650  \n",
       "1        7639  \n",
       "2        8062  \n",
       "3        5000  \n",
       "4        7503  \n",
       "\n",
       "[5 rows x 21 columns]"
      ]
     },
     "execution_count": 2,
     "metadata": {},
     "output_type": "execute_result"
    }
   ],
   "source": [
    "# Print the first five entries\n",
    "df.head()"
   ]
  },
  {
   "cell_type": "code",
   "execution_count": 3,
   "metadata": {},
   "outputs": [
    {
     "data": {
      "text/html": [
       "<div>\n",
       "<style scoped>\n",
       "    .dataframe tbody tr th:only-of-type {\n",
       "        vertical-align: middle;\n",
       "    }\n",
       "\n",
       "    .dataframe tbody tr th {\n",
       "        vertical-align: top;\n",
       "    }\n",
       "\n",
       "    .dataframe thead th {\n",
       "        text-align: right;\n",
       "    }\n",
       "</style>\n",
       "<table border=\"1\" class=\"dataframe\">\n",
       "  <thead>\n",
       "    <tr style=\"text-align: right;\">\n",
       "      <th></th>\n",
       "      <th>id</th>\n",
       "      <th>price</th>\n",
       "      <th>bedrooms</th>\n",
       "      <th>bathrooms</th>\n",
       "      <th>sqft_living</th>\n",
       "      <th>sqft_lot</th>\n",
       "      <th>floors</th>\n",
       "      <th>waterfront</th>\n",
       "      <th>view</th>\n",
       "      <th>condition</th>\n",
       "      <th>grade</th>\n",
       "      <th>sqft_above</th>\n",
       "      <th>sqft_basement</th>\n",
       "      <th>yr_built</th>\n",
       "      <th>yr_renovated</th>\n",
       "      <th>zipcode</th>\n",
       "      <th>lat</th>\n",
       "      <th>long</th>\n",
       "      <th>sqft_living15</th>\n",
       "      <th>sqft_lot15</th>\n",
       "    </tr>\n",
       "  </thead>\n",
       "  <tbody>\n",
       "    <tr>\n",
       "      <th>count</th>\n",
       "      <td>2.161300e+04</td>\n",
       "      <td>2.161300e+04</td>\n",
       "      <td>21613.00000</td>\n",
       "      <td>21613.00000</td>\n",
       "      <td>21613.00000</td>\n",
       "      <td>2.161300e+04</td>\n",
       "      <td>21613.00000</td>\n",
       "      <td>21613.00000</td>\n",
       "      <td>21613.00000</td>\n",
       "      <td>21613.00000</td>\n",
       "      <td>21613.00000</td>\n",
       "      <td>21613.00000</td>\n",
       "      <td>21613.00000</td>\n",
       "      <td>21613.00000</td>\n",
       "      <td>21613.00000</td>\n",
       "      <td>21613.00000</td>\n",
       "      <td>21613.00000</td>\n",
       "      <td>21613.00000</td>\n",
       "      <td>21613.00000</td>\n",
       "      <td>21613.00000</td>\n",
       "    </tr>\n",
       "    <tr>\n",
       "      <th>mean</th>\n",
       "      <td>4.580302e+09</td>\n",
       "      <td>5.400881e+05</td>\n",
       "      <td>3.37084</td>\n",
       "      <td>2.11476</td>\n",
       "      <td>2079.89974</td>\n",
       "      <td>1.510697e+04</td>\n",
       "      <td>1.49431</td>\n",
       "      <td>0.00754</td>\n",
       "      <td>0.23430</td>\n",
       "      <td>3.40943</td>\n",
       "      <td>7.65687</td>\n",
       "      <td>1788.39069</td>\n",
       "      <td>291.50905</td>\n",
       "      <td>1971.00514</td>\n",
       "      <td>84.40226</td>\n",
       "      <td>98077.93980</td>\n",
       "      <td>47.56005</td>\n",
       "      <td>-122.21390</td>\n",
       "      <td>1986.55249</td>\n",
       "      <td>12768.45565</td>\n",
       "    </tr>\n",
       "    <tr>\n",
       "      <th>std</th>\n",
       "      <td>2.876566e+09</td>\n",
       "      <td>3.671272e+05</td>\n",
       "      <td>0.93006</td>\n",
       "      <td>0.77016</td>\n",
       "      <td>918.44090</td>\n",
       "      <td>4.142051e+04</td>\n",
       "      <td>0.53999</td>\n",
       "      <td>0.08652</td>\n",
       "      <td>0.76632</td>\n",
       "      <td>0.65074</td>\n",
       "      <td>1.17546</td>\n",
       "      <td>828.09098</td>\n",
       "      <td>442.57504</td>\n",
       "      <td>29.37341</td>\n",
       "      <td>401.67924</td>\n",
       "      <td>53.50503</td>\n",
       "      <td>0.13856</td>\n",
       "      <td>0.14083</td>\n",
       "      <td>685.39130</td>\n",
       "      <td>27304.17963</td>\n",
       "    </tr>\n",
       "    <tr>\n",
       "      <th>min</th>\n",
       "      <td>1.000102e+06</td>\n",
       "      <td>7.500000e+04</td>\n",
       "      <td>0.00000</td>\n",
       "      <td>0.00000</td>\n",
       "      <td>290.00000</td>\n",
       "      <td>5.200000e+02</td>\n",
       "      <td>1.00000</td>\n",
       "      <td>0.00000</td>\n",
       "      <td>0.00000</td>\n",
       "      <td>1.00000</td>\n",
       "      <td>1.00000</td>\n",
       "      <td>290.00000</td>\n",
       "      <td>0.00000</td>\n",
       "      <td>1900.00000</td>\n",
       "      <td>0.00000</td>\n",
       "      <td>98001.00000</td>\n",
       "      <td>47.15590</td>\n",
       "      <td>-122.51900</td>\n",
       "      <td>399.00000</td>\n",
       "      <td>651.00000</td>\n",
       "    </tr>\n",
       "    <tr>\n",
       "      <th>25%</th>\n",
       "      <td>2.123049e+09</td>\n",
       "      <td>3.219500e+05</td>\n",
       "      <td>3.00000</td>\n",
       "      <td>1.75000</td>\n",
       "      <td>1427.00000</td>\n",
       "      <td>5.040000e+03</td>\n",
       "      <td>1.00000</td>\n",
       "      <td>0.00000</td>\n",
       "      <td>0.00000</td>\n",
       "      <td>3.00000</td>\n",
       "      <td>7.00000</td>\n",
       "      <td>1190.00000</td>\n",
       "      <td>0.00000</td>\n",
       "      <td>1951.00000</td>\n",
       "      <td>0.00000</td>\n",
       "      <td>98033.00000</td>\n",
       "      <td>47.47100</td>\n",
       "      <td>-122.32800</td>\n",
       "      <td>1490.00000</td>\n",
       "      <td>5100.00000</td>\n",
       "    </tr>\n",
       "    <tr>\n",
       "      <th>50%</th>\n",
       "      <td>3.904930e+09</td>\n",
       "      <td>4.500000e+05</td>\n",
       "      <td>3.00000</td>\n",
       "      <td>2.25000</td>\n",
       "      <td>1910.00000</td>\n",
       "      <td>7.618000e+03</td>\n",
       "      <td>1.50000</td>\n",
       "      <td>0.00000</td>\n",
       "      <td>0.00000</td>\n",
       "      <td>3.00000</td>\n",
       "      <td>7.00000</td>\n",
       "      <td>1560.00000</td>\n",
       "      <td>0.00000</td>\n",
       "      <td>1975.00000</td>\n",
       "      <td>0.00000</td>\n",
       "      <td>98065.00000</td>\n",
       "      <td>47.57180</td>\n",
       "      <td>-122.23000</td>\n",
       "      <td>1840.00000</td>\n",
       "      <td>7620.00000</td>\n",
       "    </tr>\n",
       "    <tr>\n",
       "      <th>75%</th>\n",
       "      <td>7.308900e+09</td>\n",
       "      <td>6.450000e+05</td>\n",
       "      <td>4.00000</td>\n",
       "      <td>2.50000</td>\n",
       "      <td>2550.00000</td>\n",
       "      <td>1.068800e+04</td>\n",
       "      <td>2.00000</td>\n",
       "      <td>0.00000</td>\n",
       "      <td>0.00000</td>\n",
       "      <td>4.00000</td>\n",
       "      <td>8.00000</td>\n",
       "      <td>2210.00000</td>\n",
       "      <td>560.00000</td>\n",
       "      <td>1997.00000</td>\n",
       "      <td>0.00000</td>\n",
       "      <td>98118.00000</td>\n",
       "      <td>47.67800</td>\n",
       "      <td>-122.12500</td>\n",
       "      <td>2360.00000</td>\n",
       "      <td>10083.00000</td>\n",
       "    </tr>\n",
       "    <tr>\n",
       "      <th>max</th>\n",
       "      <td>9.900000e+09</td>\n",
       "      <td>7.700000e+06</td>\n",
       "      <td>33.00000</td>\n",
       "      <td>8.00000</td>\n",
       "      <td>13540.00000</td>\n",
       "      <td>1.651359e+06</td>\n",
       "      <td>3.50000</td>\n",
       "      <td>1.00000</td>\n",
       "      <td>4.00000</td>\n",
       "      <td>5.00000</td>\n",
       "      <td>13.00000</td>\n",
       "      <td>9410.00000</td>\n",
       "      <td>4820.00000</td>\n",
       "      <td>2015.00000</td>\n",
       "      <td>2015.00000</td>\n",
       "      <td>98199.00000</td>\n",
       "      <td>47.77760</td>\n",
       "      <td>-121.31500</td>\n",
       "      <td>6210.00000</td>\n",
       "      <td>871200.00000</td>\n",
       "    </tr>\n",
       "  </tbody>\n",
       "</table>\n",
       "</div>"
      ],
      "text/plain": [
       "                 id         price     bedrooms    bathrooms  sqft_living  \\\n",
       "count  2.161300e+04  2.161300e+04  21613.00000  21613.00000  21613.00000   \n",
       "mean   4.580302e+09  5.400881e+05      3.37084      2.11476   2079.89974   \n",
       "std    2.876566e+09  3.671272e+05      0.93006      0.77016    918.44090   \n",
       "min    1.000102e+06  7.500000e+04      0.00000      0.00000    290.00000   \n",
       "25%    2.123049e+09  3.219500e+05      3.00000      1.75000   1427.00000   \n",
       "50%    3.904930e+09  4.500000e+05      3.00000      2.25000   1910.00000   \n",
       "75%    7.308900e+09  6.450000e+05      4.00000      2.50000   2550.00000   \n",
       "max    9.900000e+09  7.700000e+06     33.00000      8.00000  13540.00000   \n",
       "\n",
       "           sqft_lot       floors   waterfront         view    condition  \\\n",
       "count  2.161300e+04  21613.00000  21613.00000  21613.00000  21613.00000   \n",
       "mean   1.510697e+04      1.49431      0.00754      0.23430      3.40943   \n",
       "std    4.142051e+04      0.53999      0.08652      0.76632      0.65074   \n",
       "min    5.200000e+02      1.00000      0.00000      0.00000      1.00000   \n",
       "25%    5.040000e+03      1.00000      0.00000      0.00000      3.00000   \n",
       "50%    7.618000e+03      1.50000      0.00000      0.00000      3.00000   \n",
       "75%    1.068800e+04      2.00000      0.00000      0.00000      4.00000   \n",
       "max    1.651359e+06      3.50000      1.00000      4.00000      5.00000   \n",
       "\n",
       "             grade   sqft_above  sqft_basement     yr_built  yr_renovated  \\\n",
       "count  21613.00000  21613.00000    21613.00000  21613.00000   21613.00000   \n",
       "mean       7.65687   1788.39069      291.50905   1971.00514      84.40226   \n",
       "std        1.17546    828.09098      442.57504     29.37341     401.67924   \n",
       "min        1.00000    290.00000        0.00000   1900.00000       0.00000   \n",
       "25%        7.00000   1190.00000        0.00000   1951.00000       0.00000   \n",
       "50%        7.00000   1560.00000        0.00000   1975.00000       0.00000   \n",
       "75%        8.00000   2210.00000      560.00000   1997.00000       0.00000   \n",
       "max       13.00000   9410.00000     4820.00000   2015.00000    2015.00000   \n",
       "\n",
       "           zipcode          lat         long  sqft_living15    sqft_lot15  \n",
       "count  21613.00000  21613.00000  21613.00000    21613.00000   21613.00000  \n",
       "mean   98077.93980     47.56005   -122.21390     1986.55249   12768.45565  \n",
       "std       53.50503      0.13856      0.14083      685.39130   27304.17963  \n",
       "min    98001.00000     47.15590   -122.51900      399.00000     651.00000  \n",
       "25%    98033.00000     47.47100   -122.32800     1490.00000    5100.00000  \n",
       "50%    98065.00000     47.57180   -122.23000     1840.00000    7620.00000  \n",
       "75%    98118.00000     47.67800   -122.12500     2360.00000   10083.00000  \n",
       "max    98199.00000     47.77760   -121.31500     6210.00000  871200.00000  "
      ]
     },
     "execution_count": 3,
     "metadata": {},
     "output_type": "execute_result"
    }
   ],
   "source": [
    "# Describe the dataset\n",
    "df.describe().round(5)"
   ]
  },
  {
   "cell_type": "markdown",
   "metadata": {},
   "source": [
    "We can see that each entry has an id, i.e. an identification number, as well as a date, i.e. the date on which the transaction took place. These two columns are irrelevant to our analysis; so we will go ahead and remove them."
   ]
  },
  {
   "cell_type": "code",
   "execution_count": 4,
   "metadata": {},
   "outputs": [],
   "source": [
    "# Drop the id and date columns\n",
    "df = df.drop(['id', 'date'], axis=1)"
   ]
  },
  {
   "cell_type": "markdown",
   "metadata": {},
   "source": [
    "The attentive reader will already have noticed that there are 21613 observations or entries. Let's confirm it."
   ]
  },
  {
   "cell_type": "code",
   "execution_count": 5,
   "metadata": {},
   "outputs": [
    {
     "data": {
      "text/plain": [
       "21613"
      ]
     },
     "execution_count": 5,
     "metadata": {},
     "output_type": "execute_result"
    }
   ],
   "source": [
    "# Print the number of data observations\n",
    "len(df)"
   ]
  },
  {
   "cell_type": "markdown",
   "metadata": {},
   "source": [
    "However, we also need to see how many features there are in our dataset."
   ]
  },
  {
   "cell_type": "code",
   "execution_count": 6,
   "metadata": {},
   "outputs": [
    {
     "data": {
      "text/plain": [
       "19"
      ]
     },
     "execution_count": 6,
     "metadata": {},
     "output_type": "execute_result"
    }
   ],
   "source": [
    "# Print the number of starting features\n",
    "len(df.columns)"
   ]
  },
  {
   "cell_type": "markdown",
   "metadata": {},
   "source": [
    "Since the number of features is small, it would probably be a good idea to try an alternative implementation, using the normal equation method. Nevertheless, we will go ahead and check the data types and whether they have correctly been interpreted."
   ]
  },
  {
   "cell_type": "code",
   "execution_count": 7,
   "metadata": {},
   "outputs": [
    {
     "data": {
      "text/plain": [
       "price            float64\n",
       "bedrooms           int64\n",
       "bathrooms        float64\n",
       "sqft_living        int64\n",
       "sqft_lot           int64\n",
       "floors           float64\n",
       "waterfront         int64\n",
       "view               int64\n",
       "condition          int64\n",
       "grade              int64\n",
       "sqft_above         int64\n",
       "sqft_basement      int64\n",
       "yr_built           int64\n",
       "yr_renovated       int64\n",
       "zipcode            int64\n",
       "lat              float64\n",
       "long             float64\n",
       "sqft_living15      int64\n",
       "sqft_lot15         int64\n",
       "dtype: object"
      ]
     },
     "execution_count": 7,
     "metadata": {},
     "output_type": "execute_result"
    }
   ],
   "source": [
    "# Check the types of data\n",
    "df.dtypes"
   ]
  },
  {
   "cell_type": "markdown",
   "metadata": {},
   "source": [
    "In addition, it is always a good idea to check for any missing values or \"NaN\" in the dataset. However, our data is very clean."
   ]
  },
  {
   "cell_type": "code",
   "execution_count": 8,
   "metadata": {},
   "outputs": [
    {
     "data": {
      "text/plain": [
       "0"
      ]
     },
     "execution_count": 8,
     "metadata": {},
     "output_type": "execute_result"
    }
   ],
   "source": [
    "# Print the number of null data observations\n",
    "df.isnull().values.sum()"
   ]
  },
  {
   "cell_type": "markdown",
   "metadata": {},
   "source": [
    "## 3. Feature selection\n",
    "\n",
    "In this section, we are going to use a filter method so as to select which features are going to actually be used by the linear regression algorithm. First of all though, we have to specify which is the target variable we want to predict (price) and which are the features we are going to use (all others)."
   ]
  },
  {
   "cell_type": "code",
   "execution_count": 9,
   "metadata": {},
   "outputs": [
    {
     "data": {
      "text/plain": [
       "['bedrooms',\n",
       " 'bathrooms',\n",
       " 'sqft_living',\n",
       " 'sqft_lot',\n",
       " 'floors',\n",
       " 'waterfront',\n",
       " 'view',\n",
       " 'condition',\n",
       " 'grade',\n",
       " 'sqft_above',\n",
       " 'sqft_basement',\n",
       " 'yr_built',\n",
       " 'yr_renovated',\n",
       " 'zipcode',\n",
       " 'lat',\n",
       " 'long',\n",
       " 'sqft_living15',\n",
       " 'sqft_lot15']"
      ]
     },
     "execution_count": 9,
     "metadata": {},
     "output_type": "execute_result"
    }
   ],
   "source": [
    "# Specify target and features\n",
    "target = df.iloc[:, 0].name\n",
    "features = df.iloc[:, 1:].columns.tolist()\n",
    "features"
   ]
  },
  {
   "cell_type": "markdown",
   "metadata": {},
   "source": [
    "At this point we are going to check the correlations between our target variable (price) and the features."
   ]
  },
  {
   "cell_type": "code",
   "execution_count": 10,
   "metadata": {},
   "outputs": [
    {
     "data": {
      "text/plain": [
       "price            1.000000\n",
       "bedrooms         0.308350\n",
       "bathrooms        0.525138\n",
       "sqft_living      0.702035\n",
       "sqft_lot         0.089661\n",
       "floors           0.256794\n",
       "waterfront       0.266369\n",
       "view             0.397293\n",
       "condition        0.036362\n",
       "grade            0.667434\n",
       "sqft_above       0.605567\n",
       "sqft_basement    0.323816\n",
       "yr_built         0.054012\n",
       "yr_renovated     0.126434\n",
       "zipcode         -0.053203\n",
       "lat              0.307003\n",
       "long             0.021626\n",
       "sqft_living15    0.585379\n",
       "sqft_lot15       0.082447\n",
       "Name: price, dtype: float64"
      ]
     },
     "execution_count": 10,
     "metadata": {},
     "output_type": "execute_result"
    }
   ],
   "source": [
    "# Correlations of features with target variable\n",
    "correlations = df.corr()\n",
    "correlations['price']"
   ]
  },
  {
   "cell_type": "markdown",
   "metadata": {},
   "source": [
    "Using a filter method, we are going to select which features are to be used subsequently. Although this is arbitrary and contestable, we will remove all features with an absolute correlation with the target variable which is smaller than 0.2."
   ]
  },
  {
   "cell_type": "code",
   "execution_count": 11,
   "metadata": {},
   "outputs": [
    {
     "data": {
      "text/plain": [
       "sqft_lot        0.089661\n",
       "condition       0.036362\n",
       "yr_built        0.054012\n",
       "yr_renovated    0.126434\n",
       "zipcode         0.053203\n",
       "long            0.021626\n",
       "sqft_lot15      0.082447\n",
       "Name: price, dtype: float64"
      ]
     },
     "execution_count": 11,
     "metadata": {},
     "output_type": "execute_result"
    }
   ],
   "source": [
    "# Correlations with target variable\n",
    "cor_target = abs(correlations['price'])\n",
    "\n",
    "# Display features with correlation < 0.2\n",
    "removed_features = cor_target[cor_target < 0.2]\n",
    "removed_features"
   ]
  },
  {
   "cell_type": "code",
   "execution_count": 12,
   "metadata": {},
   "outputs": [],
   "source": [
    "# Remove features with correlation < 0.2\n",
    "df = df.drop(['sqft_lot', 'condition', 'yr_built', 'yr_renovated', 'zipcode', 'long',\n",
    "              'sqft_lot15'], axis=1)"
   ]
  },
  {
   "cell_type": "markdown",
   "metadata": {},
   "source": [
    "Furthermore, we also have to ensure that the remaining features are not very highly correlated with each other, i.e. that they are -more or less- independent variables. Let us plot the Pearson correlation matrix using Matplotlib and Seaborn."
   ]
  },
  {
   "cell_type": "code",
   "execution_count": 13,
   "metadata": {},
   "outputs": [
    {
     "data": {
      "image/png": "[encoded data removed]",
      "text/plain": [
       "<Figure size 864x720 with 2 Axes>"
      ]
     },
     "metadata": {
      "needs_background": "light"
     },
     "output_type": "display_data"
    }
   ],
   "source": [
    "# Plot Pearson correlation matrix\n",
    "fig_1 = plt.figure(figsize=(12, 10))\n",
    "new_correlations = df.corr()\n",
    "sns.heatmap(new_correlations, annot=True, cmap='Greens', annot_kws={'size': 8})\n",
    "plt.title('Pearson Correlation Matrix')\n",
    "plt.show()"
   ]
  },
  {
   "cell_type": "markdown",
   "metadata": {},
   "source": [
    "From the above figure, we can see that some features are highly correlated with each other. We will -arbitrarily- search for correlations above 0.75 and remove the features with the lowest correlation with the target variable (price)."
   ]
  },
  {
   "cell_type": "code",
   "execution_count": 14,
   "metadata": {
    "scrolled": true
   },
   "outputs": [
    {
     "data": {
      "text/html": [
       "<div>\n",
       "<style scoped>\n",
       "    .dataframe tbody tr th:only-of-type {\n",
       "        vertical-align: middle;\n",
       "    }\n",
       "\n",
       "    .dataframe tbody tr th {\n",
       "        vertical-align: top;\n",
       "    }\n",
       "\n",
       "    .dataframe thead th {\n",
       "        text-align: right;\n",
       "    }\n",
       "</style>\n",
       "<table border=\"1\" class=\"dataframe\">\n",
       "  <thead>\n",
       "    <tr style=\"text-align: right;\">\n",
       "      <th></th>\n",
       "      <th>price</th>\n",
       "      <th>bedrooms</th>\n",
       "      <th>bathrooms</th>\n",
       "      <th>sqft_living</th>\n",
       "      <th>floors</th>\n",
       "      <th>waterfront</th>\n",
       "      <th>view</th>\n",
       "      <th>grade</th>\n",
       "      <th>sqft_above</th>\n",
       "      <th>sqft_basement</th>\n",
       "      <th>lat</th>\n",
       "      <th>sqft_living15</th>\n",
       "    </tr>\n",
       "  </thead>\n",
       "  <tbody>\n",
       "    <tr>\n",
       "      <th>price</th>\n",
       "      <td>1</td>\n",
       "      <td>-</td>\n",
       "      <td>-</td>\n",
       "      <td>-</td>\n",
       "      <td>-</td>\n",
       "      <td>-</td>\n",
       "      <td>-</td>\n",
       "      <td>-</td>\n",
       "      <td>-</td>\n",
       "      <td>-</td>\n",
       "      <td>-</td>\n",
       "      <td>-</td>\n",
       "    </tr>\n",
       "    <tr>\n",
       "      <th>bedrooms</th>\n",
       "      <td>-</td>\n",
       "      <td>1</td>\n",
       "      <td>-</td>\n",
       "      <td>-</td>\n",
       "      <td>-</td>\n",
       "      <td>-</td>\n",
       "      <td>-</td>\n",
       "      <td>-</td>\n",
       "      <td>-</td>\n",
       "      <td>-</td>\n",
       "      <td>-</td>\n",
       "      <td>-</td>\n",
       "    </tr>\n",
       "    <tr>\n",
       "      <th>bathrooms</th>\n",
       "      <td>-</td>\n",
       "      <td>-</td>\n",
       "      <td>1</td>\n",
       "      <td>0.754665</td>\n",
       "      <td>-</td>\n",
       "      <td>-</td>\n",
       "      <td>-</td>\n",
       "      <td>-</td>\n",
       "      <td>-</td>\n",
       "      <td>-</td>\n",
       "      <td>-</td>\n",
       "      <td>-</td>\n",
       "    </tr>\n",
       "    <tr>\n",
       "      <th>sqft_living</th>\n",
       "      <td>-</td>\n",
       "      <td>-</td>\n",
       "      <td>0.754665</td>\n",
       "      <td>1</td>\n",
       "      <td>-</td>\n",
       "      <td>-</td>\n",
       "      <td>-</td>\n",
       "      <td>0.762704</td>\n",
       "      <td>0.876597</td>\n",
       "      <td>-</td>\n",
       "      <td>-</td>\n",
       "      <td>0.75642</td>\n",
       "    </tr>\n",
       "    <tr>\n",
       "      <th>floors</th>\n",
       "      <td>-</td>\n",
       "      <td>-</td>\n",
       "      <td>-</td>\n",
       "      <td>-</td>\n",
       "      <td>1</td>\n",
       "      <td>-</td>\n",
       "      <td>-</td>\n",
       "      <td>-</td>\n",
       "      <td>-</td>\n",
       "      <td>-</td>\n",
       "      <td>-</td>\n",
       "      <td>-</td>\n",
       "    </tr>\n",
       "    <tr>\n",
       "      <th>waterfront</th>\n",
       "      <td>-</td>\n",
       "      <td>-</td>\n",
       "      <td>-</td>\n",
       "      <td>-</td>\n",
       "      <td>-</td>\n",
       "      <td>1</td>\n",
       "      <td>-</td>\n",
       "      <td>-</td>\n",
       "      <td>-</td>\n",
       "      <td>-</td>\n",
       "      <td>-</td>\n",
       "      <td>-</td>\n",
       "    </tr>\n",
       "    <tr>\n",
       "      <th>view</th>\n",
       "      <td>-</td>\n",
       "      <td>-</td>\n",
       "      <td>-</td>\n",
       "      <td>-</td>\n",
       "      <td>-</td>\n",
       "      <td>-</td>\n",
       "      <td>1</td>\n",
       "      <td>-</td>\n",
       "      <td>-</td>\n",
       "      <td>-</td>\n",
       "      <td>-</td>\n",
       "      <td>-</td>\n",
       "    </tr>\n",
       "    <tr>\n",
       "      <th>grade</th>\n",
       "      <td>-</td>\n",
       "      <td>-</td>\n",
       "      <td>-</td>\n",
       "      <td>0.762704</td>\n",
       "      <td>-</td>\n",
       "      <td>-</td>\n",
       "      <td>-</td>\n",
       "      <td>1</td>\n",
       "      <td>0.755923</td>\n",
       "      <td>-</td>\n",
       "      <td>-</td>\n",
       "      <td>-</td>\n",
       "    </tr>\n",
       "    <tr>\n",
       "      <th>sqft_above</th>\n",
       "      <td>-</td>\n",
       "      <td>-</td>\n",
       "      <td>-</td>\n",
       "      <td>0.876597</td>\n",
       "      <td>-</td>\n",
       "      <td>-</td>\n",
       "      <td>-</td>\n",
       "      <td>0.755923</td>\n",
       "      <td>1</td>\n",
       "      <td>-</td>\n",
       "      <td>-</td>\n",
       "      <td>-</td>\n",
       "    </tr>\n",
       "    <tr>\n",
       "      <th>sqft_basement</th>\n",
       "      <td>-</td>\n",
       "      <td>-</td>\n",
       "      <td>-</td>\n",
       "      <td>-</td>\n",
       "      <td>-</td>\n",
       "      <td>-</td>\n",
       "      <td>-</td>\n",
       "      <td>-</td>\n",
       "      <td>-</td>\n",
       "      <td>1</td>\n",
       "      <td>-</td>\n",
       "      <td>-</td>\n",
       "    </tr>\n",
       "    <tr>\n",
       "      <th>lat</th>\n",
       "      <td>-</td>\n",
       "      <td>-</td>\n",
       "      <td>-</td>\n",
       "      <td>-</td>\n",
       "      <td>-</td>\n",
       "      <td>-</td>\n",
       "      <td>-</td>\n",
       "      <td>-</td>\n",
       "      <td>-</td>\n",
       "      <td>-</td>\n",
       "      <td>1</td>\n",
       "      <td>-</td>\n",
       "    </tr>\n",
       "    <tr>\n",
       "      <th>sqft_living15</th>\n",
       "      <td>-</td>\n",
       "      <td>-</td>\n",
       "      <td>-</td>\n",
       "      <td>0.75642</td>\n",
       "      <td>-</td>\n",
       "      <td>-</td>\n",
       "      <td>-</td>\n",
       "      <td>-</td>\n",
       "      <td>-</td>\n",
       "      <td>-</td>\n",
       "      <td>-</td>\n",
       "      <td>1</td>\n",
       "    </tr>\n",
       "  </tbody>\n",
       "</table>\n",
       "</div>"
      ],
      "text/plain": [
       "              price bedrooms bathrooms sqft_living floors waterfront view  \\\n",
       "price             1        -         -           -      -          -    -   \n",
       "bedrooms          -        1         -           -      -          -    -   \n",
       "bathrooms         -        -         1    0.754665      -          -    -   \n",
       "sqft_living       -        -  0.754665           1      -          -    -   \n",
       "floors            -        -         -           -      1          -    -   \n",
       "waterfront        -        -         -           -      -          1    -   \n",
       "view              -        -         -           -      -          -    1   \n",
       "grade             -        -         -    0.762704      -          -    -   \n",
       "sqft_above        -        -         -    0.876597      -          -    -   \n",
       "sqft_basement     -        -         -           -      -          -    -   \n",
       "lat               -        -         -           -      -          -    -   \n",
       "sqft_living15     -        -         -     0.75642      -          -    -   \n",
       "\n",
       "                  grade sqft_above sqft_basement lat sqft_living15  \n",
       "price                 -          -             -   -             -  \n",
       "bedrooms              -          -             -   -             -  \n",
       "bathrooms             -          -             -   -             -  \n",
       "sqft_living    0.762704   0.876597             -   -       0.75642  \n",
       "floors                -          -             -   -             -  \n",
       "waterfront            -          -             -   -             -  \n",
       "view                  -          -             -   -             -  \n",
       "grade                 1   0.755923             -   -             -  \n",
       "sqft_above     0.755923          1             -   -             -  \n",
       "sqft_basement         -          -             1   -             -  \n",
       "lat                   -          -             -   1             -  \n",
       "sqft_living15         -          -             -   -             1  "
      ]
     },
     "execution_count": 14,
     "metadata": {},
     "output_type": "execute_result"
    }
   ],
   "source": [
    "# Determine the highest intercorrelations\n",
    "highly_correlated_features = new_correlations[new_correlations > 0.75]\n",
    "highly_correlated_features.fillna('-')"
   ]
  },
  {
   "cell_type": "markdown",
   "metadata": {},
   "source": [
    "Once more, this is contestable and the result of my own interpretation, but I am of the opinion that although there are sets of variables which are indeed highly correlated, they ultimately represent two independent variables and should be kept as they are. I believe this to be the case with the following sets of variables:\n",
    "- (\"bathrooms\", \"sqft_living\") \n",
    "- (\"grade\", \"sqft_living\")\n",
    "- (\"grade\", sqft_above\")\n",
    "\n",
    "In contrast, I deem that the variable \"sqft_living\" is not only highly correlated with \"sqft_above\" (0.877) and \"sqft_living15\" (0.756), but that it really represents most of the information we need for the linear regression. Indeed, according to the description of the original dataset found on [Kaggle](https://www.kaggle.com/harlfoxem/housesalesprediction), \"sqft_above\" is the square footage of the house apart from the basement and \"sqft_living15\" is the square footage of the living room area in 2015 (which implies renovations). It is also useful to note that the variable \"grade\" is given by the King County grading system and refers to the types of materials used and the quality of workmanship (more info can be found [here](https://info.kingcounty.gov/assessor/esales/Glossary.aspx?type=r#g))\n",
    "\n",
    "Thus, I chose to remove two more features (\"sqft_above\" and \"sqft_living15\") and keep \"sqft_living\" which has the highest correlation with the target variable (0.702)."
   ]
  },
  {
   "cell_type": "code",
   "execution_count": 15,
   "metadata": {},
   "outputs": [],
   "source": [
    "# Remove features which are highly correlated with \"sqft_living\"\n",
    "df = df.drop(['sqft_above', 'sqft_living15'], axis=1)"
   ]
  },
  {
   "cell_type": "markdown",
   "metadata": {},
   "source": [
    "We are ultimately left with 9 features that will be used for the linear regression. Let us update the features and store their number."
   ]
  },
  {
   "cell_type": "code",
   "execution_count": 16,
   "metadata": {},
   "outputs": [
    {
     "data": {
      "text/plain": [
       "9"
      ]
     },
     "execution_count": 16,
     "metadata": {},
     "output_type": "execute_result"
    }
   ],
   "source": [
    "# Update features and store their length\n",
    "features = df.iloc[:, 1:].columns.tolist()\n",
    "len_of_features = len(features)\n",
    "len_of_features"
   ]
  },
  {
   "cell_type": "markdown",
   "metadata": {},
   "source": [
    "## 4. Multivariate linear regression\n",
    "\n",
    "In this section, we are going to implement our linear regression algorithm. At the very beggining, we are going to standardize (sometimes this is also reffered to as \"normalization\", although the latter usually comprises a slightly different methodology) the features so as to ensure an efficient convergence of the model."
   ]
  },
  {
   "cell_type": "code",
   "execution_count": 17,
   "metadata": {},
   "outputs": [],
   "source": [
    "# Standardize the features\n",
    "df.iloc[:, 1:] = (df - df.mean())/df.std()"
   ]
  },
  {
   "cell_type": "markdown",
   "metadata": {},
   "source": [
    "Now we are going to create the X, y and theta (Θ) matrices. We could also use for-loops; however, the NumPy library is able to handle numerical computations more efficiently if the operations are vectorized."
   ]
  },
  {
   "cell_type": "code",
   "execution_count": 18,
   "metadata": {},
   "outputs": [],
   "source": [
    "# Create X, y and theta\n",
    "X = df.iloc[:, 1:]\n",
    "ones = np.ones([len(df), 1])\n",
    "X = np.concatenate((ones, X), axis=1)\n",
    "y = df.iloc[:, 0:1].values\n",
    "theta = np.zeros([1, len_of_features + 1])"
   ]
  },
  {
   "cell_type": "markdown",
   "metadata": {},
   "source": [
    "We are also going to store the target variable and check the size of the matrices."
   ]
  },
  {
   "cell_type": "code",
   "execution_count": 19,
   "metadata": {},
   "outputs": [
    {
     "data": {
      "text/plain": [
       "((21613, 10), (21613, 1), (1, 10))"
      ]
     },
     "execution_count": 19,
     "metadata": {},
     "output_type": "execute_result"
    }
   ],
   "source": [
    "# Store target\n",
    "target = y\n",
    "\n",
    "# Display the size of the matrices\n",
    "X.shape, y.shape, theta.shape"
   ]
  },
  {
   "cell_type": "markdown",
   "metadata": {},
   "source": [
    "At this point, let's define the function which computes the cost function J(Θ)."
   ]
  },
  {
   "cell_type": "code",
   "execution_count": 20,
   "metadata": {},
   "outputs": [],
   "source": [
    "# Define computecost function\n",
    "def computecost(X, y, theta):\n",
    "    H = X @ theta.T\n",
    "    J = np.power((H - y), 2)\n",
    "    sum = np.sum(J)/(2 * len(X))\n",
    "    return sum"
   ]
  },
  {
   "cell_type": "markdown",
   "metadata": {},
   "source": [
    "It is necessary to set the parameters of the model, i.e. the number of the total iterations as well as the learning rate  alpha (α). Feel free to experiment by changing these parameters and checking if and how quickly does the model converge."
   ]
  },
  {
   "cell_type": "code",
   "execution_count": 21,
   "metadata": {},
   "outputs": [],
   "source": [
    "# Set iterations and alpha (learning rate)\n",
    "alpha = 0.01\n",
    "iterations = 500"
   ]
  },
  {
   "cell_type": "markdown",
   "metadata": {},
   "source": [
    "We will also define the function which does the gradient descent, by minimizing the cost function."
   ]
  },
  {
   "cell_type": "code",
   "execution_count": 22,
   "metadata": {},
   "outputs": [],
   "source": [
    "# Define gradientdescent function\n",
    "def gradientdescent(X, y, theta, iterations, alpha):\n",
    "    cost = np.zeros(iterations)\n",
    "    for i in range(iterations):\n",
    "        H = X @ theta.T\n",
    "        theta = theta - (alpha/len(X)) * np.sum(X * (H - y), axis=0)\n",
    "        cost[i] = computecost(X, y, theta)\n",
    "    return theta, cost"
   ]
  },
  {
   "cell_type": "markdown",
   "metadata": {},
   "source": [
    "Now is the most important step in which we will actually do the gradient descent and display the final theta. This is where the \"learning\" part takes place."
   ]
  },
  {
   "cell_type": "code",
   "execution_count": 23,
   "metadata": {},
   "outputs": [
    {
     "data": {
      "text/plain": [
       "array([[536539.5 , -15531.37,  13447.21, 136689.98, -11342.24,  52134.98,\n",
       "         53770.94, 111975.36,  12410.22,  91337.08]])"
      ]
     },
     "execution_count": 23,
     "metadata": {},
     "output_type": "execute_result"
    }
   ],
   "source": [
    "# Do Gradient Descent and display final theta\n",
    "final_theta, cost = gradientdescent(X, y, theta, iterations, alpha)\n",
    "final_theta.round(2)"
   ]
  },
  {
   "cell_type": "markdown",
   "metadata": {},
   "source": [
    "What is more, we will compute and print the final cost."
   ]
  },
  {
   "cell_type": "code",
   "execution_count": 24,
   "metadata": {},
   "outputs": [
    {
     "data": {
      "text/plain": [
       "23301779924.46"
      ]
     },
     "execution_count": 24,
     "metadata": {},
     "output_type": "execute_result"
    }
   ],
   "source": [
    "final_cost = computecost(X, y, final_theta)\n",
    "final_cost.round(2)"
   ]
  },
  {
   "cell_type": "markdown",
   "metadata": {},
   "source": [
    "In order to check whether our algorithm converges, we will also plot the Iterations vs. Cost figure."
   ]
  },
  {
   "cell_type": "code",
   "execution_count": 25,
   "metadata": {},
   "outputs": [
    {
     "data": {
      "image/png": "[encoded data removed]",
      "text/plain": [
       "<Figure size 720x576 with 1 Axes>"
      ]
     },
     "metadata": {
      "needs_background": "light"
     },
     "output_type": "display_data"
    }
   ],
   "source": [
    "fig_2, ax = plt.subplots(figsize=(10, 8))\n",
    "ax.plot(np.arange(iterations), cost, 'r')\n",
    "ax.set_xlabel('Iterations')\n",
    "ax.set_ylabel('Cost')\n",
    "ax.set_title('Iterations vs. Cost')\n",
    "plt.show()"
   ]
  },
  {
   "cell_type": "markdown",
   "metadata": {},
   "source": [
    "Furthermore, we will define a function which computes the Root Mean Squared Error (RMSE) so as to measure the differences  between the values predicted by our model and the observed values we had in the beggining of our analysis. RMSE is an absolute measure of fit and it is in the same units as our response variable, i.e. the price in US dollars."
   ]
  },
  {
   "cell_type": "code",
   "execution_count": 26,
   "metadata": {},
   "outputs": [
    {
     "data": {
      "text/plain": [
       "215878.58"
      ]
     },
     "execution_count": 26,
     "metadata": {},
     "output_type": "execute_result"
    }
   ],
   "source": [
    "# Define rmse function\n",
    "def rmse(target, final_theta):\n",
    "    predictions = X @ final_theta.T\n",
    "    return np.sqrt(((predictions[:, 0] - target[:, 0]) ** 2).mean())\n",
    "\n",
    "# Compute and display Root Mean Squared Error\n",
    "rmse_val = rmse(target, final_theta)\n",
    "rmse_val.round(2)"
   ]
  },
  {
   "cell_type": "markdown",
   "metadata": {},
   "source": [
    "We can see that the RMSE value is high (~216,000 USD). However, if we have in mind that the prices in the original dataset ranged from 75,000 USD to 7,700,000 USD and had a standard deviation of approximately 367,000 USD (see section 2), this RMSE value is not unexpected at all. The best approach would be to implement various machine learning algorithms, compare their results and decide which one works the best for our case.\n",
    "\n",
    "Finally, let's make a sample prediction in order to check whether our algorithm works as intended. We use the -standardized- features of the first observation in our data which originally had a price of 221,900 USD. "
   ]
  },
  {
   "cell_type": "code",
   "execution_count": 27,
   "metadata": {},
   "outputs": [
    {
     "data": {
      "text/plain": [
       "'[275784.67]'"
      ]
     },
     "execution_count": 27,
     "metadata": {},
     "output_type": "execute_result"
    }
   ],
   "source": [
    "predictions = X @ final_theta.T\n",
    "str(predictions[0].round(2))"
   ]
  },
  {
   "cell_type": "markdown",
   "metadata": {},
   "source": [
    "## 5. Conclusion\n",
    "\n",
    "In this notebook, we applied a multivariate linear regression algorithm so as to predict the house sale prices in King County, USA. The code was greatly detailed and included an exploratory analysis of the dataset and a comprehensive feature selection. In order to get a closer look on what is going on behind the scenes, we used only Pandas and NumPy libraries. \n",
    "\n",
    "As I said in the beggining, I am open to any questions, comments and ideas on how to improve the kernel. I hope that it proved useful and that you enjoyed it.\n",
    "\n",
    "If you want to access the original code and Jupyter Notebook, you can find them on [GitHub](https://github.com/droussis/linear-regression-house-prices).\n",
    "\n",
    "Apart from Andrew Ng's course (and the contents of Week 1 and 2, in particular), my implementation made use and was influenced by the following websites:\n",
    "- https://medium.com/we-are-orb/multivariate-linear-regression-in-python-without-scikit-learn-7091b1d45905\n",
    "- https://towardsdatascience.com/andrew-ngs-machine-learning-course-in-python-linear-regression-dd04fba8e137\n",
    "- https://towardsdatascience.com/feature-selection-with-pandas-e3690ad8504b\n",
    "- https://www.dataquest.io/blog/understanding-regression-error-metrics/\n",
    "- https://www.statisticshowto.datasciencecentral.com/rmse/\n",
    "- https://www.theanalysisfactor.com/assessing-the-fit-of-regression-models/"
   ]
  }
 ],
 "metadata": {
  "kernelspec": {
   "display_name": "Python 3",
   "language": "python",
   "name": "python3"
  },
  "language_info": {
   "codemirror_mode": {
    "name": "ipython",
    "version": 3
   },
   "file_extension": ".py",
   "mimetype": "text/x-python",
   "name": "python",
   "nbconvert_exporter": "python",
   "pygments_lexer": "ipython3",
   "version": "3.7.2"
  }
 },
 "nbformat": 4,
 "nbformat_minor": 2
}
